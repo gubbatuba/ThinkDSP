{
 "metadata": {
  "name": "",
  "signature": "sha256:4baa0e44cfa7bc0acc73694c244518fe0e3bf59500e1b78f2ad430ded53fbc9a"
 },
 "nbformat": 3,
 "nbformat_minor": 0,
 "worksheets": [
  {
   "cells": [
    {
     "cell_type": "heading",
     "level": 1,
     "metadata": {},
     "source": [
      "Subhash Gubba | \n",
      "SigSys Problem Set 4 | \n",
      "February 13, 2015"
     ]
    },
    {
     "cell_type": "code",
     "collapsed": false,
     "input": [
      "from __future__ import print_function, division\n",
      "\n",
      "import thinkdsp\n",
      "import thinkplot\n",
      "import numpy\n",
      "import math\n",
      "import pandas\n",
      "import scipy.fftpack\n",
      "import dct\n",
      "import dft\n",
      "import autocorr\n",
      "\n",
      "PI2 = 2 * math.pi\n",
      "\n",
      "%matplotlib inline"
     ],
     "language": "python",
     "metadata": {},
     "outputs": [],
     "prompt_number": 2
    },
    {
     "cell_type": "heading",
     "level": 4,
     "metadata": {},
     "source": [
      "1) Can you construct a vector of complex amplitudes that shifts all components by the same amount of time?"
     ]
    },
    {
     "cell_type": "code",
     "collapsed": false,
     "input": [
      "PI2 = 2 * math.pi\n",
      "i = complex(0, 1)\n",
      "amps = numpy.array([0.6, 0.25, 0.1, 0.05])\n",
      "freqs = [100, 200, 300, 400]\n",
      "framerate = 11025\n",
      "ts = numpy.linspace(0, 1, framerate)\n",
      "\n",
      "def synthesize2(amps, freqs, ts):\n",
      "    args = numpy.outer(ts, freqs)\n",
      "    M = numpy.exp(i * PI2 * args)\n",
      "    ys = numpy.dot(M, amps)\n",
      "    return ys"
     ],
     "language": "python",
     "metadata": {},
     "outputs": [],
     "prompt_number": 3
    },
    {
     "cell_type": "code",
     "collapsed": false,
     "input": [
      "ys = synthesize2(amps, freqs, ts)\n",
      "amps2 = amps * numpy.exp(3.14j)\n",
      "ys2 = synthesize2(amps2, freqs, ts)\n",
      "\n",
      "n=400\n",
      "thinkplot.plot(ts[:n], ys.real[:n], label=r'$\\phi_0 = 0$')\n",
      "thinkplot.plot(ts[:n], ys2.real[:n], label=r'$\\phi_0 = pi$')\n",
      "thinkplot.config(ylim=[-1.15, 1.05])"
     ],
     "language": "python",
     "metadata": {},
     "outputs": [
      {
       "metadata": {},
       "output_type": "display_data",
       "png": "[encoded data removed]",
       "text": [
        "<matplotlib.figure.Figure at 0x7fe17704c7d0>"
       ]
      }
     ],
     "prompt_number": 4
    },
    {
     "cell_type": "markdown",
     "metadata": {},
     "source": [
      "I chose to make the offset pi because it would essentially be the equivalent of time shifting the wave by pi, due to the periodic nature of the signal. (It has been shifted half a period)."
     ]
    },
    {
     "cell_type": "heading",
     "level": 4,
     "metadata": {},
     "source": [
      "2) Read the Wikipedia page on DFT.  Write an implementation of DFT based on this summation and compare your results to my implementation and/or numpy.fft.fft."
     ]
    },
    {
     "cell_type": "code",
     "collapsed": false,
     "input": [
      "def my_dft(ys):\n",
      "    n = len(ys)\n",
      "    output = [numpy.complex(0)] * n\n",
      "    for k in range(n):\n",
      "        s = numpy.complex(0)\n",
      "        for t in range(n):\n",
      "            s += ys[t] * numpy.exp(-2j * math.pi * t * k / n)\n",
      "        output[k] = s\n",
      "    return output"
     ],
     "language": "python",
     "metadata": {},
     "outputs": [],
     "prompt_number": 5
    },
    {
     "cell_type": "code",
     "collapsed": false,
     "input": [
      "N = 4\n",
      "amps = numpy.array([0.6, 0.25, 0.1, 0.05])\n",
      "freqs = numpy.arange(N)\n",
      "ts = numpy.arange(N) / N\n",
      "ys = synthesize2(amps, freqs, ts)"
     ],
     "language": "python",
     "metadata": {},
     "outputs": [],
     "prompt_number": 6
    },
    {
     "cell_type": "code",
     "collapsed": false,
     "input": [
      "dft.dft(ys)"
     ],
     "language": "python",
     "metadata": {},
     "outputs": [
      {
       "metadata": {},
       "output_type": "pyout",
       "prompt_number": 7,
       "text": [
        "array([ 2.4 +8.32667268e-17j,  1.0 +5.55111512e-17j,  0.4 -1.55935377e-16j,\n",
        "        0.2 -3.33066907e-16j])"
       ]
      }
     ],
     "prompt_number": 7
    },
    {
     "cell_type": "markdown",
     "metadata": {},
     "source": [
      "These are the results of Allen's implementation."
     ]
    },
    {
     "cell_type": "code",
     "collapsed": false,
     "input": [
      "numpy.fft.fft(ys)"
     ],
     "language": "python",
     "metadata": {},
     "outputs": [
      {
       "metadata": {},
       "output_type": "pyout",
       "prompt_number": 8,
       "text": [
        "array([ 2.4 +8.00032783e-17j,  1.0 -2.44921271e-17j,  0.4 -3.10190242e-17j,\n",
        "        0.2 -2.44921271e-17j])"
       ]
      }
     ],
     "prompt_number": 8
    },
    {
     "cell_type": "markdown",
     "metadata": {},
     "source": [
      "These results are from the numpy fast fourier transform."
     ]
    },
    {
     "cell_type": "code",
     "collapsed": false,
     "input": [
      "my_dft(ys)"
     ],
     "language": "python",
     "metadata": {},
     "outputs": [
      {
       "metadata": {},
       "output_type": "pyout",
       "prompt_number": 9,
       "text": [
        "[(2.3999999999999999+8.3266726846886741e-17j),\n",
        " (0.99999999999999989-1.1102230246251565e-16j),\n",
        " (0.3999999999999998-1.9428902930940239e-16j),\n",
        " (0.20000000000000029-3.3306690738754696e-16j)]"
       ]
      }
     ],
     "prompt_number": 9
    },
    {
     "cell_type": "markdown",
     "metadata": {},
     "source": [
      "These are the results which my implementation produces. What's interesting is that the beginning and end of the wave are the most accurate, yet the middle 2 values are close but the imaginary part seems a little off. This may be due to the fact that the summation is a bad approximation of the process... I'm not entirely sure why this is."
     ]
    },
    {
     "cell_type": "heading",
     "level": 4,
     "metadata": {},
     "source": [
      "3) Read about the FFT at http://en.wikipedia.org/wiki/Cooley-Tukey_FFT_algorithm, and write an implementation."
     ]
    },
    {
     "cell_type": "code",
     "collapsed": false,
     "input": [
      "def my_fft(ys):\n",
      "    x = numpy.asarray(ys, dtype=float)\n",
      "    N = x.shape[0]\n",
      "    if N % 2 > 0:\n",
      "        print(\"x size must be power of 2\")\n",
      "    else:\n",
      "        xe = my_fft(x[::2])\n",
      "        xo = my_fft(x[1::2])\n",
      "        expo = numpy.exp(-1j * PI2 * numpy.arange(N)/N)\n",
      "        return numpy.concatenate([xe + expo[:N / 2] * xo, xe + expo[N / 2:] * xo])"
     ],
     "language": "python",
     "metadata": {},
     "outputs": [],
     "prompt_number": 10
    },
    {
     "cell_type": "code",
     "collapsed": false,
     "input": [
      "my_fft(ys)"
     ],
     "language": "python",
     "metadata": {},
     "outputs": [
      {
       "output_type": "stream",
       "stream": "stdout",
       "text": [
        "x size must be power of 2\n",
        "x size must be power of 2\n"
       ]
      },
      {
       "output_type": "stream",
       "stream": "stderr",
       "text": [
        "/home/sgubba/anaconda/lib/python2.7/site-packages/numpy/core/numeric.py:462: ComplexWarning: Casting complex values to real discards the imaginary part\n",
        "  return array(a, dtype, copy=False, order=order)\n"
       ]
      },
      {
       "ename": "TypeError",
       "evalue": "unsupported operand type(s) for *: 'complex' and 'NoneType'",
       "output_type": "pyerr",
       "traceback": [
        "\u001b[1;31m---------------------------------------------------------------------------\u001b[0m\n\u001b[1;31mTypeError\u001b[0m                                 Traceback (most recent call last)",
        "\u001b[1;32m<ipython-input-11-b6fd67d53168>\u001b[0m in \u001b[0;36m<module>\u001b[1;34m()\u001b[0m\n\u001b[1;32m----> 1\u001b[1;33m \u001b[0mmy_fft\u001b[0m\u001b[1;33m(\u001b[0m\u001b[0mys\u001b[0m\u001b[1;33m)\u001b[0m\u001b[1;33m\u001b[0m\u001b[0m\n\u001b[0m",
        "\u001b[1;32m<ipython-input-10-e7a6f13f1872>\u001b[0m in \u001b[0;36mmy_fft\u001b[1;34m(ys)\u001b[0m\n\u001b[0;32m      5\u001b[0m         \u001b[1;32mprint\u001b[0m\u001b[1;33m(\u001b[0m\u001b[1;34m\"x size must be power of 2\"\u001b[0m\u001b[1;33m)\u001b[0m\u001b[1;33m\u001b[0m\u001b[0m\n\u001b[0;32m      6\u001b[0m     \u001b[1;32melse\u001b[0m\u001b[1;33m:\u001b[0m\u001b[1;33m\u001b[0m\u001b[0m\n\u001b[1;32m----> 7\u001b[1;33m         \u001b[0mxe\u001b[0m \u001b[1;33m=\u001b[0m \u001b[0mmy_fft\u001b[0m\u001b[1;33m(\u001b[0m\u001b[0mx\u001b[0m\u001b[1;33m[\u001b[0m\u001b[1;33m:\u001b[0m\u001b[1;33m:\u001b[0m\u001b[1;36m2\u001b[0m\u001b[1;33m]\u001b[0m\u001b[1;33m)\u001b[0m\u001b[1;33m\u001b[0m\u001b[0m\n\u001b[0m\u001b[0;32m      8\u001b[0m         \u001b[0mxo\u001b[0m \u001b[1;33m=\u001b[0m \u001b[0mmy_fft\u001b[0m\u001b[1;33m(\u001b[0m\u001b[0mx\u001b[0m\u001b[1;33m[\u001b[0m\u001b[1;36m1\u001b[0m\u001b[1;33m:\u001b[0m\u001b[1;33m:\u001b[0m\u001b[1;36m2\u001b[0m\u001b[1;33m]\u001b[0m\u001b[1;33m)\u001b[0m\u001b[1;33m\u001b[0m\u001b[0m\n\u001b[0;32m      9\u001b[0m         \u001b[0mexpo\u001b[0m \u001b[1;33m=\u001b[0m \u001b[0mnumpy\u001b[0m\u001b[1;33m.\u001b[0m\u001b[0mexp\u001b[0m\u001b[1;33m(\u001b[0m\u001b[1;33m-\u001b[0m\u001b[1;36m1j\u001b[0m \u001b[1;33m*\u001b[0m \u001b[0mPI2\u001b[0m \u001b[1;33m*\u001b[0m \u001b[0mnumpy\u001b[0m\u001b[1;33m.\u001b[0m\u001b[0marange\u001b[0m\u001b[1;33m(\u001b[0m\u001b[0mN\u001b[0m\u001b[1;33m)\u001b[0m\u001b[1;33m/\u001b[0m\u001b[0mN\u001b[0m\u001b[1;33m)\u001b[0m\u001b[1;33m\u001b[0m\u001b[0m\n",
        "\u001b[1;32m<ipython-input-10-e7a6f13f1872>\u001b[0m in \u001b[0;36mmy_fft\u001b[1;34m(ys)\u001b[0m\n\u001b[0;32m      8\u001b[0m         \u001b[0mxo\u001b[0m \u001b[1;33m=\u001b[0m \u001b[0mmy_fft\u001b[0m\u001b[1;33m(\u001b[0m\u001b[0mx\u001b[0m\u001b[1;33m[\u001b[0m\u001b[1;36m1\u001b[0m\u001b[1;33m:\u001b[0m\u001b[1;33m:\u001b[0m\u001b[1;36m2\u001b[0m\u001b[1;33m]\u001b[0m\u001b[1;33m)\u001b[0m\u001b[1;33m\u001b[0m\u001b[0m\n\u001b[0;32m      9\u001b[0m         \u001b[0mexpo\u001b[0m \u001b[1;33m=\u001b[0m \u001b[0mnumpy\u001b[0m\u001b[1;33m.\u001b[0m\u001b[0mexp\u001b[0m\u001b[1;33m(\u001b[0m\u001b[1;33m-\u001b[0m\u001b[1;36m1j\u001b[0m \u001b[1;33m*\u001b[0m \u001b[0mPI2\u001b[0m \u001b[1;33m*\u001b[0m \u001b[0mnumpy\u001b[0m\u001b[1;33m.\u001b[0m\u001b[0marange\u001b[0m\u001b[1;33m(\u001b[0m\u001b[0mN\u001b[0m\u001b[1;33m)\u001b[0m\u001b[1;33m/\u001b[0m\u001b[0mN\u001b[0m\u001b[1;33m)\u001b[0m\u001b[1;33m\u001b[0m\u001b[0m\n\u001b[1;32m---> 10\u001b[1;33m         \u001b[1;32mreturn\u001b[0m \u001b[0mnumpy\u001b[0m\u001b[1;33m.\u001b[0m\u001b[0mconcatenate\u001b[0m\u001b[1;33m(\u001b[0m\u001b[1;33m[\u001b[0m\u001b[0mxe\u001b[0m \u001b[1;33m+\u001b[0m \u001b[0mexpo\u001b[0m\u001b[1;33m[\u001b[0m\u001b[1;33m:\u001b[0m\u001b[0mN\u001b[0m \u001b[1;33m/\u001b[0m \u001b[1;36m2\u001b[0m\u001b[1;33m]\u001b[0m \u001b[1;33m*\u001b[0m \u001b[0mxo\u001b[0m\u001b[1;33m,\u001b[0m \u001b[0mxe\u001b[0m \u001b[1;33m+\u001b[0m \u001b[0mexpo\u001b[0m\u001b[1;33m[\u001b[0m\u001b[0mN\u001b[0m \u001b[1;33m/\u001b[0m \u001b[1;36m2\u001b[0m\u001b[1;33m:\u001b[0m\u001b[1;33m]\u001b[0m \u001b[1;33m*\u001b[0m \u001b[0mxo\u001b[0m\u001b[1;33m]\u001b[0m\u001b[1;33m)\u001b[0m\u001b[1;33m\u001b[0m\u001b[0m\n\u001b[0m",
        "\u001b[1;31mTypeError\u001b[0m: unsupported operand type(s) for *: 'complex' and 'NoneType'"
       ]
      }
     ],
     "prompt_number": 11
    },
    {
     "cell_type": "markdown",
     "metadata": {},
     "source": [
      "I'm not sure why this doesn't work, but I'm going to venture a guess and say because I'm implementing some step incorrectly."
     ]
    },
    {
     "cell_type": "heading",
     "level": 4,
     "metadata": {},
     "source": [
      "4) Using the timing code from PS03, compare the performance of my implementation of autocorr from Chapter 5, my fft_autocorr from Chapter 8, and numpy.correlate.  Can you tell whether NumPy is using the FFT algorithm?"
     ]
    },
    {
     "cell_type": "code",
     "collapsed": false,
     "input": [
      "signal = thinkdsp.UncorrelatedGaussianNoise()\n",
      "noise = signal.make_wave(duration=1.0)\n",
      "ns = 2 ** numpy.arange(4, 12)"
     ],
     "language": "python",
     "metadata": {},
     "outputs": [],
     "prompt_number": 13
    },
    {
     "cell_type": "code",
     "collapsed": false,
     "input": [
      "results = []\n",
      "for N in ns:\n",
      "    ts = (0.5 + numpy.arange(N)) / N\n",
      "    freqs = (0.5 + numpy.arange(N)) / 2\n",
      "    ys = noise.ys[:N]\n",
      "    #result = %timeit -o dct.analyze1(ys, freqs, ts)\n",
      "    result = %timeit -o autocorr.autocorr(noise)\n",
      "    results.append(result)\n",
      "bests = [result.best for result in results]\n",
      "thinkplot.plot(ns, bests)\n",
      "thinkplot.config(xscale='log', yscale='log')"
     ],
     "language": "python",
     "metadata": {},
     "outputs": [
      {
       "output_type": "stream",
       "stream": "stdout",
       "text": [
        "1 loops, best of 3: 776 ms per loop\n",
        "1 loops, best of 3: 766 ms per loop"
       ]
      },
      {
       "output_type": "stream",
       "stream": "stdout",
       "text": [
        "\n",
        "1 loops, best of 3: 775 ms per loop"
       ]
      },
      {
       "output_type": "stream",
       "stream": "stdout",
       "text": [
        "\n",
        "1 loops, best of 3: 769 ms per loop"
       ]
      },
      {
       "output_type": "stream",
       "stream": "stdout",
       "text": [
        "\n",
        "1 loops, best of 3: 768 ms per loop"
       ]
      },
      {
       "output_type": "stream",
       "stream": "stdout",
       "text": [
        "\n",
        "1 loops, best of 3: 771 ms per loop"
       ]
      },
      {
       "output_type": "stream",
       "stream": "stdout",
       "text": [
        "\n",
        "1 loops, best of 3: 777 ms per loop"
       ]
      },
      {
       "output_type": "stream",
       "stream": "stdout",
       "text": [
        "\n",
        "1 loops, best of 3: 765 ms per loop"
       ]
      },
      {
       "output_type": "stream",
       "stream": "stdout",
       "text": [
        "\n"
       ]
      },
      {
       "output_type": "stream",
       "stream": "stderr",
       "text": [
        "/home/sgubba/anaconda/lib/python2.7/site-packages/matplotlib/axes/_axes.py:475: UserWarning: No labelled objects found. Use label='...' kwarg on individual plots.\n",
        "  warnings.warn(\"No labelled objects found. \"\n"
       ]
      },
      {
       "metadata": {},
       "output_type": "display_data",
       "png": "[encoded data removed]",
       "text": [
        "<matplotlib.figure.Figure at 0x7fe176a979d0>"
       ]
      }
     ],
     "prompt_number": 14
    },
    {
     "cell_type": "code",
     "collapsed": false,
     "input": [
      "def zero_pad(array, n):\n",
      "    res = numpy.zeros(n)\n",
      "    res[:len(array)] = array\n",
      "    return res\n",
      "\n",
      "def fft_convolve(signal, window):\n",
      "    fft_signal = numpy.fft.fft(signal)\n",
      "    fft_window = numpy.fft.fft(window)\n",
      "    return numpy.fft.ifft(fft_signal * fft_window)\n",
      "\n",
      "def fft_autocorr(signal):\n",
      "    N = len(signal)\n",
      "    window = signal[::-1]\n",
      "    signal = zero_pad(signal, 2*N)\n",
      "    window = zero_pad(window, 2*N)\n",
      "\n",
      "    corrs = fft_convolve(signal, window)\n",
      "    corrs = corrs[N//2: 3*N//2]\n",
      "    return corrs"
     ],
     "language": "python",
     "metadata": {},
     "outputs": [],
     "prompt_number": 15
    },
    {
     "cell_type": "code",
     "collapsed": false,
     "input": [
      "results = []\n",
      "for N in ns:\n",
      "    ts = (0.5 + numpy.arange(N)) / N\n",
      "    freqs = (0.5 + numpy.arange(N)) / 2\n",
      "    ys = noise.ys[:N]\n",
      "    #result = %timeit -o dct.analyze1(ys, freqs, ts)\n",
      "    result = %timeit -o fft_autocorr(ys)\n",
      "    results.append(result)\n",
      "bests = [result.best for result in results]\n",
      "thinkplot.plot(ns, bests)\n",
      "thinkplot.config(xscale='log', yscale='log')"
     ],
     "language": "python",
     "metadata": {},
     "outputs": [
      {
       "output_type": "stream",
       "stream": "stdout",
       "text": [
        "10000 loops, best of 3: 37.1 \u00b5s per loop\n",
        "10000 loops, best of 3: 39.7 \u00b5s per loop"
       ]
      },
      {
       "output_type": "stream",
       "stream": "stdout",
       "text": [
        "\n",
        "10000 loops, best of 3: 45.3 \u00b5s per loop"
       ]
      },
      {
       "output_type": "stream",
       "stream": "stdout",
       "text": [
        "\n",
        "10000 loops, best of 3: 52.4 \u00b5s per loop"
       ]
      },
      {
       "output_type": "stream",
       "stream": "stdout",
       "text": [
        "\n",
        "10000 loops, best of 3: 75.3 \u00b5s per loop"
       ]
      },
      {
       "output_type": "stream",
       "stream": "stdout",
       "text": [
        "\n",
        "10000 loops, best of 3: 114 \u00b5s per loop"
       ]
      },
      {
       "output_type": "stream",
       "stream": "stdout",
       "text": [
        "\n",
        "1000 loops, best of 3: 199 \u00b5s per loop"
       ]
      },
      {
       "output_type": "stream",
       "stream": "stdout",
       "text": [
        "\n",
        "1000 loops, best of 3: 375 \u00b5s per loop"
       ]
      },
      {
       "output_type": "stream",
       "stream": "stdout",
       "text": [
        "\n"
       ]
      },
      {
       "metadata": {},
       "output_type": "display_data",
       "png": "[encoded data removed]",
       "text": [
        "<matplotlib.figure.Figure at 0x7fe1769ce350>"
       ]
      }
     ],
     "prompt_number": 16
    },
    {
     "cell_type": "code",
     "collapsed": false,
     "input": [
      "results = []\n",
      "for N in ns:\n",
      "    ts = (0.5 + numpy.arange(N)) / N\n",
      "    freqs = (0.5 + numpy.arange(N)) / 2\n",
      "    ys = noise.ys[:N]\n",
      "    #result = %timeit -o dct.analyze1(ys, freqs, ts)\n",
      "    result = %timeit -o numpy.correlate(ys, ys, mode='same')\n",
      "    results.append(result)\n",
      "bests = [result.best for result in results]\n",
      "thinkplot.plot(ns, bests)\n",
      "thinkplot.config(xscale='log', yscale='log')"
     ],
     "language": "python",
     "metadata": {},
     "outputs": [
      {
       "output_type": "stream",
       "stream": "stdout",
       "text": [
        "100000 loops, best of 3: 2.57 \u00b5s per loop\n",
        "100000 loops, best of 3: 3.08 \u00b5s per loop"
       ]
      },
      {
       "output_type": "stream",
       "stream": "stdout",
       "text": [
        "\n",
        "100000 loops, best of 3: 4.63 \u00b5s per loop"
       ]
      },
      {
       "output_type": "stream",
       "stream": "stdout",
       "text": [
        "\n",
        "100000 loops, best of 3: 10.6 \u00b5s per loop"
       ]
      },
      {
       "output_type": "stream",
       "stream": "stdout",
       "text": [
        "\n",
        "10000 loops, best of 3: 29.9 \u00b5s per loop"
       ]
      },
      {
       "output_type": "stream",
       "stream": "stdout",
       "text": [
        "\n",
        "10000 loops, best of 3: 99.5 \u00b5s per loop"
       ]
      },
      {
       "output_type": "stream",
       "stream": "stdout",
       "text": [
        "\n",
        "1000 loops, best of 3: 362 \u00b5s per loop"
       ]
      },
      {
       "output_type": "stream",
       "stream": "stdout",
       "text": [
        "\n",
        "1000 loops, best of 3: 1.39 ms per loop"
       ]
      },
      {
       "output_type": "stream",
       "stream": "stdout",
       "text": [
        "\n"
       ]
      },
      {
       "metadata": {},
       "output_type": "display_data",
       "png": "[encoded data removed]",
       "text": [
        "<matplotlib.figure.Figure at 0x7fe176907d10>"
       ]
      }
     ],
     "prompt_number": 17
    },
    {
     "cell_type": "markdown",
     "metadata": {},
     "source": [
      "Because NumPy's function scales similarly in computational complexity to that of the fft_autocorr, I think it's safe to assume that NumPy is using the FFT."
     ]
    },
    {
     "cell_type": "code",
     "collapsed": false,
     "input": [],
     "language": "python",
     "metadata": {},
     "outputs": [],
     "prompt_number": 17
    }
   ],
   "metadata": {}
  }
 ]
}