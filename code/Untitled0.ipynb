{
 "metadata": {
  "name": "",
  "signature": "sha256:f20d33e35f918585b7ad9a3a5fb8eb242ce238900eab4b088ac678e31df4df41"
 },
 "nbformat": 3,
 "nbformat_minor": 0,
 "worksheets": []
}